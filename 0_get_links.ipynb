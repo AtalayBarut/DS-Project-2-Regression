{
 "cells": [
  {
   "cell_type": "code",
   "execution_count": null,
   "metadata": {},
   "outputs": [],
   "source": [
    "from bs4 import BeautifulSoup as bts\n",
    "import requests\n",
    "import pandas as pd\n",
    "import pickle "
   ]
  },
  {
   "cell_type": "code",
   "execution_count": null,
   "metadata": {},
   "outputs": [],
   "source": [
    "def get_movie_links(pages, start=1):\n",
    "    base_url = 'https://www.imdb.com/search/title/?title_type=feature&release_date=1990-01-01,&num_votes=50000,&count=250&start={}&ref_=adv_nxt'\n",
    "    links = []\n",
    "    for i in range(0, pages):\n",
    "        result = requests.get(base_url.format(start))\n",
    "        page = bts(result.text, 'html.parser')\n",
    "        for list_item in page.find_all('h3', class_='lister-item-header'):\n",
    "            links.append('https://www.imdb.com' + list_item.a['href'])\n",
    "        start += 250\n",
    "    return links"
   ]
  },
  {
   "cell_type": "code",
   "execution_count": null,
   "metadata": {},
   "outputs": [],
   "source": [
    "links = get_movie_links(pages = 13)"
   ]
  },
  {
   "cell_type": "code",
   "execution_count": null,
   "metadata": {},
   "outputs": [],
   "source": [
    "len(links)"
   ]
  },
  {
   "cell_type": "code",
   "execution_count": null,
   "metadata": {},
   "outputs": [],
   "source": [
    "with open('links.pickle', 'wb') as f:\n",
    "    pickle.dump(links, f)"
   ]
  }
 ],
 "metadata": {
  "language_info": {
   "name": "python"
  },
  "orig_nbformat": 4
 },
 "nbformat": 4,
 "nbformat_minor": 2
}
